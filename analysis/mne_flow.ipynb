{
 "cells": [
  {
   "cell_type": "markdown",
   "id": "58724872",
   "metadata": {},
   "source": [
    "# COGS 189 Analysis"
   ]
  },
  {
   "cell_type": "code",
   "execution_count": 1,
   "id": "58a29d17",
   "metadata": {},
   "outputs": [],
   "source": [
    "import numpy as np   \n",
    "import matplotlib.pyplot as plt    \n",
    "import pandas as pd\n",
    "import mne"
   ]
  },
  {
   "cell_type": "markdown",
   "id": "569ef490",
   "metadata": {},
   "source": [
    "# Read data with added stim channel\n",
    "See find_peaks_stim_channel.ipynb for generating the stim channel from aux data."
   ]
  },
  {
   "cell_type": "code",
   "execution_count": 2,
   "id": "4c93cdd0",
   "metadata": {
    "scrolled": true
   },
   "outputs": [
    {
     "data": {
      "text/html": [
       "<div>\n",
       "<style scoped>\n",
       "    .dataframe tbody tr th:only-of-type {\n",
       "        vertical-align: middle;\n",
       "    }\n",
       "\n",
       "    .dataframe tbody tr th {\n",
       "        vertical-align: top;\n",
       "    }\n",
       "\n",
       "    .dataframe thead th {\n",
       "        text-align: right;\n",
       "    }\n",
       "</style>\n",
       "<table border=\"1\" class=\"dataframe\">\n",
       "  <thead>\n",
       "    <tr style=\"text-align: right;\">\n",
       "      <th></th>\n",
       "      <th>Unnamed: 0</th>\n",
       "      <th>EXG0</th>\n",
       "      <th>EXG1</th>\n",
       "      <th>EXG2</th>\n",
       "      <th>EXG3</th>\n",
       "      <th>EXG4</th>\n",
       "      <th>EXG5</th>\n",
       "      <th>EXG6</th>\n",
       "      <th>EXG7</th>\n",
       "      <th>Analog0</th>\n",
       "      <th>Analog1</th>\n",
       "      <th>Analog2</th>\n",
       "      <th>Timestamp</th>\n",
       "      <th>stim</th>\n",
       "    </tr>\n",
       "  </thead>\n",
       "  <tbody>\n",
       "    <tr>\n",
       "      <th>0</th>\n",
       "      <td>0</td>\n",
       "      <td>12584.725032</td>\n",
       "      <td>15524.024132</td>\n",
       "      <td>-2317.138292</td>\n",
       "      <td>17950.261289</td>\n",
       "      <td>14667.952319</td>\n",
       "      <td>7234.834997</td>\n",
       "      <td>18205.361748</td>\n",
       "      <td>19735.338656</td>\n",
       "      <td>421.0</td>\n",
       "      <td>621.0</td>\n",
       "      <td>511.0</td>\n",
       "      <td>1.677707e+09</td>\n",
       "      <td>0</td>\n",
       "    </tr>\n",
       "    <tr>\n",
       "      <th>1</th>\n",
       "      <td>1</td>\n",
       "      <td>12595.587980</td>\n",
       "      <td>15529.410902</td>\n",
       "      <td>-2316.959478</td>\n",
       "      <td>17958.352620</td>\n",
       "      <td>14691.756927</td>\n",
       "      <td>7232.622174</td>\n",
       "      <td>18216.045882</td>\n",
       "      <td>19740.792482</td>\n",
       "      <td>402.0</td>\n",
       "      <td>516.0</td>\n",
       "      <td>511.0</td>\n",
       "      <td>1.677707e+09</td>\n",
       "      <td>0</td>\n",
       "    </tr>\n",
       "    <tr>\n",
       "      <th>2</th>\n",
       "      <td>2</td>\n",
       "      <td>12579.830000</td>\n",
       "      <td>15523.957077</td>\n",
       "      <td>-2315.327801</td>\n",
       "      <td>17950.641269</td>\n",
       "      <td>14672.221502</td>\n",
       "      <td>7231.638698</td>\n",
       "      <td>18202.008987</td>\n",
       "      <td>19733.751682</td>\n",
       "      <td>387.0</td>\n",
       "      <td>445.0</td>\n",
       "      <td>511.0</td>\n",
       "      <td>1.677707e+09</td>\n",
       "      <td>0</td>\n",
       "    </tr>\n",
       "    <tr>\n",
       "      <th>3</th>\n",
       "      <td>3</td>\n",
       "      <td>0.000000</td>\n",
       "      <td>0.000000</td>\n",
       "      <td>0.000000</td>\n",
       "      <td>0.000000</td>\n",
       "      <td>0.000000</td>\n",
       "      <td>0.000000</td>\n",
       "      <td>0.000000</td>\n",
       "      <td>0.000000</td>\n",
       "      <td>445.0</td>\n",
       "      <td>768.0</td>\n",
       "      <td>511.0</td>\n",
       "      <td>1.677707e+09</td>\n",
       "      <td>0</td>\n",
       "    </tr>\n",
       "    <tr>\n",
       "      <th>4</th>\n",
       "      <td>4</td>\n",
       "      <td>12535.305325</td>\n",
       "      <td>15492.910503</td>\n",
       "      <td>-2324.290851</td>\n",
       "      <td>17940.381818</td>\n",
       "      <td>14577.673623</td>\n",
       "      <td>7226.006058</td>\n",
       "      <td>18228.495804</td>\n",
       "      <td>19714.976217</td>\n",
       "      <td>423.0</td>\n",
       "      <td>622.0</td>\n",
       "      <td>511.0</td>\n",
       "      <td>1.677707e+09</td>\n",
       "      <td>0</td>\n",
       "    </tr>\n",
       "  </tbody>\n",
       "</table>\n",
       "</div>"
      ],
      "text/plain": [
       "   Unnamed: 0          EXG0          EXG1         EXG2          EXG3  \\\n",
       "0           0  12584.725032  15524.024132 -2317.138292  17950.261289   \n",
       "1           1  12595.587980  15529.410902 -2316.959478  17958.352620   \n",
       "2           2  12579.830000  15523.957077 -2315.327801  17950.641269   \n",
       "3           3      0.000000      0.000000     0.000000      0.000000   \n",
       "4           4  12535.305325  15492.910503 -2324.290851  17940.381818   \n",
       "\n",
       "           EXG4         EXG5          EXG6          EXG7  Analog0  Analog1  \\\n",
       "0  14667.952319  7234.834997  18205.361748  19735.338656    421.0    621.0   \n",
       "1  14691.756927  7232.622174  18216.045882  19740.792482    402.0    516.0   \n",
       "2  14672.221502  7231.638698  18202.008987  19733.751682    387.0    445.0   \n",
       "3      0.000000     0.000000      0.000000      0.000000    445.0    768.0   \n",
       "4  14577.673623  7226.006058  18228.495804  19714.976217    423.0    622.0   \n",
       "\n",
       "   Analog2     Timestamp  stim  \n",
       "0    511.0  1.677707e+09     0  \n",
       "1    511.0  1.677707e+09     0  \n",
       "2    511.0  1.677707e+09     0  \n",
       "3    511.0  1.677707e+09     0  \n",
       "4    511.0  1.677707e+09     0  "
      ]
     },
     "execution_count": 2,
     "metadata": {},
     "output_type": "execute_result"
    }
   ],
   "source": [
    "data = pd.read_csv(\"exp0_sub0_8ch_1stim.csv\")\n",
    "data.head()"
   ]
  },
  {
   "cell_type": "markdown",
   "id": "423f1c26",
   "metadata": {},
   "source": [
    "# Import Channel Map\n",
    "(this was just written out as a txt file during data collection)"
   ]
  },
  {
   "cell_type": "code",
   "execution_count": 3,
   "id": "da10f906",
   "metadata": {
    "scrolled": true
   },
   "outputs": [
    {
     "data": {
      "text/html": [
       "<div>\n",
       "<style scoped>\n",
       "    .dataframe tbody tr th:only-of-type {\n",
       "        vertical-align: middle;\n",
       "    }\n",
       "\n",
       "    .dataframe tbody tr th {\n",
       "        vertical-align: top;\n",
       "    }\n",
       "\n",
       "    .dataframe thead th {\n",
       "        text-align: right;\n",
       "    }\n",
       "</style>\n",
       "<table border=\"1\" class=\"dataframe\">\n",
       "  <thead>\n",
       "    <tr style=\"text-align: right;\">\n",
       "      <th></th>\n",
       "      <th>Cyton</th>\n",
       "      <th>004</th>\n",
       "    </tr>\n",
       "  </thead>\n",
       "  <tbody>\n",
       "    <tr>\n",
       "      <th>0</th>\n",
       "      <td>REF</td>\n",
       "      <td>CPz</td>\n",
       "    </tr>\n",
       "    <tr>\n",
       "      <th>1</th>\n",
       "      <td>GND</td>\n",
       "      <td>AFz</td>\n",
       "    </tr>\n",
       "    <tr>\n",
       "      <th>2</th>\n",
       "      <td>1</td>\n",
       "      <td>Fz</td>\n",
       "    </tr>\n",
       "    <tr>\n",
       "      <th>3</th>\n",
       "      <td>2</td>\n",
       "      <td>Cz</td>\n",
       "    </tr>\n",
       "    <tr>\n",
       "      <th>4</th>\n",
       "      <td>3</td>\n",
       "      <td>Pz</td>\n",
       "    </tr>\n",
       "    <tr>\n",
       "      <th>5</th>\n",
       "      <td>4</td>\n",
       "      <td>Fp1</td>\n",
       "    </tr>\n",
       "    <tr>\n",
       "      <th>6</th>\n",
       "      <td>5</td>\n",
       "      <td>F7</td>\n",
       "    </tr>\n",
       "    <tr>\n",
       "      <th>7</th>\n",
       "      <td>6</td>\n",
       "      <td>T6</td>\n",
       "    </tr>\n",
       "    <tr>\n",
       "      <th>8</th>\n",
       "      <td>7</td>\n",
       "      <td>T4</td>\n",
       "    </tr>\n",
       "    <tr>\n",
       "      <th>9</th>\n",
       "      <td>8</td>\n",
       "      <td>T3</td>\n",
       "    </tr>\n",
       "  </tbody>\n",
       "</table>\n",
       "</div>"
      ],
      "text/plain": [
       "  Cyton   004\n",
       "0    REF  CPz\n",
       "1    GND  AFz\n",
       "2      1   Fz\n",
       "3      2   Cz\n",
       "4      3   Pz\n",
       "5      4  Fp1\n",
       "6      5   F7\n",
       "7      6   T6\n",
       "8     7    T4\n",
       "9      8   T3"
      ]
     },
     "execution_count": 3,
     "metadata": {},
     "output_type": "execute_result"
    }
   ],
   "source": [
    "chan_map_path = r'../data/exp0/OpenBCISession_2023-03-01_13-30-42/chan_map.txt'\n",
    "chan_map = pd.read_csv(chan_map_path,\n",
    "                      delimiter='\\t')\n",
    "chan_map"
   ]
  },
  {
   "cell_type": "markdown",
   "id": "acb4226e",
   "metadata": {},
   "source": [
    "# Make an MNE Info Object"
   ]
  },
  {
   "cell_type": "code",
   "execution_count": 4,
   "id": "94002902",
   "metadata": {},
   "outputs": [
    {
     "name": "stdout",
     "output_type": "stream",
     "text": [
      "#Channels: 14\n"
     ]
    },
    {
     "ename": "NameError",
     "evalue": "name 'ch_names' is not defined",
     "output_type": "error",
     "traceback": [
      "\u001b[0;31m---------------------------------------------------------------------------\u001b[0m",
      "\u001b[0;31mNameError\u001b[0m                                 Traceback (most recent call last)",
      "Input \u001b[0;32mIn [4]\u001b[0m, in \u001b[0;36m<cell line: 7>\u001b[0;34m()\u001b[0m\n\u001b[1;32m      4\u001b[0m \u001b[38;5;28mprint\u001b[39m(\u001b[38;5;124m'\u001b[39m\u001b[38;5;124m#Channels:\u001b[39m\u001b[38;5;124m'\u001b[39m, \u001b[38;5;28mlen\u001b[39m(col_names))\n\u001b[1;32m      6\u001b[0m \u001b[38;5;66;03m# Container to populate with MNE channel types\u001b[39;00m\n\u001b[0;32m----> 7\u001b[0m ch_names \u001b[38;5;241m=\u001b[39m [\u001b[38;5;124m'\u001b[39m\u001b[38;5;124m'\u001b[39m]\u001b[38;5;241m*\u001b[39m\u001b[38;5;28mlen\u001b[39m(\u001b[43mch_names\u001b[49m)\n\u001b[1;32m      8\u001b[0m ch_types \u001b[38;5;241m=\u001b[39m [\u001b[38;5;124m'\u001b[39m\u001b[38;5;124m'\u001b[39m]\u001b[38;5;241m*\u001b[39m\u001b[38;5;28mlen\u001b[39m(ch_names)\n\u001b[1;32m     10\u001b[0m ch_ndx \u001b[38;5;241m=\u001b[39m \u001b[38;5;241m0\u001b[39m\n",
      "\u001b[0;31mNameError\u001b[0m: name 'ch_names' is not defined"
     ]
    }
   ],
   "source": [
    "FS_EEG = 250.0\n",
    "\n",
    "col_names = data.keys()\n",
    "print('#Channels:', len(col_names))\n",
    "\n",
    "# Container to populate with MNE channel types\n",
    "ch_names = ['']*len(ch_names)\n",
    "ch_types = ['']*len(ch_names)\n",
    "\n",
    "ch_ndx = 0\n",
    "for col in col_names:\n",
    "    # print(ch_ndx, col)\n",
    "    if 'EXG' in col:\n",
    "        ch_names[ch_ndx] = chan_map.iloc[ch_ndx+1, 1]\n",
    "        print(ch_ndx, ch_names[ch_ndx])\n",
    "        ch_types[ch_ndx] = 'eeg'\n",
    "    elif 'stim' in col:\n",
    "        ch_names[ch_ndx] = col\n",
    "        ch_types[ch_ndx] = 'stim'\n",
    "    else: # Analog / Timestamp\n",
    "        ch_names[ch_ndx] = col\n",
    "        ch_types[ch_ndx] = 'misc'\n",
    "    ch_ndx += 1\n",
    "\n",
    "info = mne.create_info(\n",
    "    ch_names=ch_names, \n",
    "    sfreq=FS_EEG, \n",
    "    ch_types=ch_types\n",
    ")\n",
    "\n",
    "# Apply 10-20 montage for these channels\n",
    "info.set_montage('standard_1020', match_case=False)"
   ]
  },
  {
   "cell_type": "markdown",
   "id": "bf88875d",
   "metadata": {},
   "source": [
    "# Import the data into MNE"
   ]
  },
  {
   "cell_type": "code",
   "execution_count": null,
   "id": "af5422ae",
   "metadata": {},
   "outputs": [],
   "source": [
    "# Need to transpose the data\n",
    "raw = mne.io.RawArray(data.T, info)\n",
    "\n",
    "raw"
   ]
  },
  {
   "cell_type": "markdown",
   "id": "954aa5a9",
   "metadata": {},
   "source": [
    "# Try a PSD plot of raw data\n",
    "Watch out for 60 Hz!"
   ]
  },
  {
   "cell_type": "code",
   "execution_count": null,
   "id": "27046737",
   "metadata": {
    "scrolled": false
   },
   "outputs": [],
   "source": [
    "scalings = {'eeg': 100, 'bio': 1, 'time': 1}\n",
    "\n",
    "raw.plot(n_channels=8, scalings=scalings, title='test',\n",
    "         show=True, block=True)\n",
    "\n",
    "\n",
    "raw.compute_psd().plot(average = False)"
   ]
  },
  {
   "cell_type": "markdown",
   "id": "e8cf32b3",
   "metadata": {},
   "source": [
    "# Bandpass Filter\n",
    "https://mne.tools/dev/auto_tutorials/preprocessing/30_filtering_resampling.html"
   ]
  },
  {
   "cell_type": "code",
   "execution_count": null,
   "id": "ee50e747",
   "metadata": {},
   "outputs": [],
   "source": [
    "raw_filtered = raw.copy().filter(\n",
    "    l_freq = 0.1, \n",
    "    h_freq = 30\n",
    ")"
   ]
  },
  {
   "cell_type": "code",
   "execution_count": null,
   "id": "7ec9ca1a",
   "metadata": {},
   "outputs": [],
   "source": [
    "raw_filtered.compute_psd().plot(average = False)"
   ]
  },
  {
   "cell_type": "markdown",
   "id": "3cc21b6d",
   "metadata": {},
   "source": [
    "# Epoch\n",
    "https://mne.tools/stable/generated/mne.find_events.html\n",
    "\n",
    "## Trigger Labels\n",
    "\n",
    "Trigger | Description\n",
    ":-- | :--\n",
    "0 | nothing\n",
    "1 | trial start (loud cue)\n",
    "2 | loud cue\n",
    "3 | soft cue\n",
    "X | auto-assigned by stim wave used\n",
    "\n",
    "X by stim file used:\n",
    "\n",
    "```\n",
    " 'audio/exp0/kick_iso.wav': 10,\n",
    " 'audio/exp0/kick_mp1.wav': 11,\n",
    " 'audio/exp0/kick_mp2.wav': 12,\n",
    " 'audio/exp0/snare_iso.wav': 13,\n",
    " 'audio/exp0/snare_mp1.wav': 14,\n",
    " 'audio/exp0/snare_mp2.wav': 15\n",
    "```"
   ]
  },
  {
   "cell_type": "code",
   "execution_count": null,
   "id": "1f6392bd",
   "metadata": {},
   "outputs": [],
   "source": [
    "mne.find_events(raw)"
   ]
  },
  {
   "cell_type": "code",
   "execution_count": null,
   "id": "7bb2299e",
   "metadata": {},
   "outputs": [],
   "source": []
  },
  {
   "cell_type": "code",
   "execution_count": null,
   "id": "db43bd9b",
   "metadata": {},
   "outputs": [],
   "source": []
  }
 ],
 "metadata": {
  "kernelspec": {
   "display_name": "Python 3 (ipykernel)",
   "language": "python",
   "name": "python3"
  },
  "language_info": {
   "codemirror_mode": {
    "name": "ipython",
    "version": 3
   },
   "file_extension": ".py",
   "mimetype": "text/x-python",
   "name": "python",
   "nbconvert_exporter": "python",
   "pygments_lexer": "ipython3",
   "version": "3.9.12"
  }
 },
 "nbformat": 4,
 "nbformat_minor": 5
}
